{
 "cells": [
  {
   "cell_type": "markdown",
   "id": "a2de5b05",
   "metadata": {},
   "source": [
    "# Eating out in Lyon - Data gathering\n",
    "\n",
    "## Summary\n",
    "\n",
    "This is the first part of a data analysis project focused on finding a delicious pizza in my hometown of Lyon. Follow me as I:\n",
    "- extract restaurant ratings using the yelp fusion API and the request package,\n",
    "- transform the json response to a tidy dataframe,\n",
    "- ensure the data integrity of variables of interest."
   ]
  },
  {
   "cell_type": "code",
   "execution_count": 1,
   "id": "cb6e10aa",
   "metadata": {},
   "outputs": [],
   "source": [
    "# loading all necessary packages at once\n",
    "import requests\n",
    "import json\n",
    "import pandas as pd\n",
    "import numpy as np"
   ]
  },
  {
   "cell_type": "markdown",
   "id": "97a3f562",
   "metadata": {},
   "source": [
    "## Gathering restaurant data from the yelp API\n",
    "\n",
    "The yelp API allows to get 50 results at a time up to the first 1000 results of a given query.\n",
    "To overcome this limitation, we can first get all the restaurant subcategories (_e.g._, italian) and then loop over all categories to get up to 1000 restaurants by categories.\n",
    "\n",
    "### Fetching all restaurant subcategories:\n",
    "\n",
    "I first get the categories using the 'categories' endpoint:"
   ]
  },
  {
   "cell_type": "code",
   "execution_count": 2,
   "id": "c848fa70",
   "metadata": {},
   "outputs": [],
   "source": [
    "# loading my yelp API key\n",
    "key_file = open('temp_api_key.txt')\n",
    "api_key = key_file.readline().rstrip('\\n')\n",
    "key_file.close()\n",
    "# replace the above lines with your own key:\n",
    "# api_key = <your api key>\n",
    "\n",
    "# specifying the headers, endpoint and parameters:\n",
    "headers = {'Authorization': 'bearer %s' % api_key}\n",
    "\n",
    "endpoint = \"https://api.yelp.com/v3/categories\"\n",
    "\n",
    "parameters = {'location': 'Lyon, FR'}\n",
    "\n",
    "# let the request package build the url and get a response:\n",
    "response = requests.get(url = endpoint, params = parameters, headers = headers)"
   ]
  },
  {
   "cell_type": "code",
   "execution_count": 3,
   "id": "f77b07dc",
   "metadata": {},
   "outputs": [
    {
     "data": {
      "text/html": [
       "<div>\n",
       "<style scoped>\n",
       "    .dataframe tbody tr th:only-of-type {\n",
       "        vertical-align: middle;\n",
       "    }\n",
       "\n",
       "    .dataframe tbody tr th {\n",
       "        vertical-align: top;\n",
       "    }\n",
       "\n",
       "    .dataframe thead th {\n",
       "        text-align: right;\n",
       "    }\n",
       "</style>\n",
       "<table border=\"1\" class=\"dataframe\">\n",
       "  <thead>\n",
       "    <tr style=\"text-align: right;\">\n",
       "      <th></th>\n",
       "      <th>alias</th>\n",
       "      <th>title</th>\n",
       "      <th>parent_aliases</th>\n",
       "      <th>country_whitelist</th>\n",
       "      <th>country_blacklist</th>\n",
       "    </tr>\n",
       "  </thead>\n",
       "  <tbody>\n",
       "    <tr>\n",
       "      <th>0</th>\n",
       "      <td>3dprinting</td>\n",
       "      <td>3D Printing</td>\n",
       "      <td>[localservices]</td>\n",
       "      <td>[]</td>\n",
       "      <td>[]</td>\n",
       "    </tr>\n",
       "    <tr>\n",
       "      <th>1</th>\n",
       "      <td>abruzzese</td>\n",
       "      <td>Abruzzese</td>\n",
       "      <td>[italian]</td>\n",
       "      <td>[IT]</td>\n",
       "      <td>[]</td>\n",
       "    </tr>\n",
       "    <tr>\n",
       "      <th>2</th>\n",
       "      <td>absinthebars</td>\n",
       "      <td>Absinthe Bars</td>\n",
       "      <td>[bars]</td>\n",
       "      <td>[CZ]</td>\n",
       "      <td>[]</td>\n",
       "    </tr>\n",
       "    <tr>\n",
       "      <th>3</th>\n",
       "      <td>acaibowls</td>\n",
       "      <td>Acai Bowls</td>\n",
       "      <td>[food]</td>\n",
       "      <td>[]</td>\n",
       "      <td>[AR, CL, IT, MX, PL, TR]</td>\n",
       "    </tr>\n",
       "    <tr>\n",
       "      <th>4</th>\n",
       "      <td>accessories</td>\n",
       "      <td>Accessories</td>\n",
       "      <td>[fashion]</td>\n",
       "      <td>[]</td>\n",
       "      <td>[]</td>\n",
       "    </tr>\n",
       "  </tbody>\n",
       "</table>\n",
       "</div>"
      ],
      "text/plain": [
       "          alias          title   parent_aliases country_whitelist  \\\n",
       "0    3dprinting    3D Printing  [localservices]                []   \n",
       "1     abruzzese      Abruzzese        [italian]              [IT]   \n",
       "2  absinthebars  Absinthe Bars           [bars]              [CZ]   \n",
       "3     acaibowls     Acai Bowls           [food]                []   \n",
       "4   accessories    Accessories        [fashion]                []   \n",
       "\n",
       "          country_blacklist  \n",
       "0                        []  \n",
       "1                        []  \n",
       "2                        []  \n",
       "3  [AR, CL, IT, MX, PL, TR]  \n",
       "4                        []  "
      ]
     },
     "execution_count": 3,
     "metadata": {},
     "output_type": "execute_result"
    }
   ],
   "source": [
    "# transform the response into a data frame\n",
    "categories_df = pd.json_normalize(response.json()['categories'])\n",
    "categories_df.head()"
   ]
  },
  {
   "cell_type": "markdown",
   "id": "c4d43809",
   "metadata": {},
   "source": [
    "As you can see above, I now have a dataframe with all the yelp categories. Most of them have nothing to do with food, such as the first one ('3dprinting'). To keep only categories of interest, I filter the data frame to keep only the rows whose parent categories ('parent_aliases' column) contains 'restaurants':"
   ]
  },
  {
   "cell_type": "code",
   "execution_count": 4,
   "id": "02f86be9",
   "metadata": {},
   "outputs": [],
   "source": [
    "# creating a column that states whether the row is a sub-category of 'restaurants':\n",
    "categories_df['is_restaurant'] = ['restaurants' in parent for parent in categories_df['parent_aliases']]"
   ]
  },
  {
   "cell_type": "code",
   "execution_count": 5,
   "id": "547389be",
   "metadata": {},
   "outputs": [
    {
     "data": {
      "text/html": [
       "<div>\n",
       "<style scoped>\n",
       "    .dataframe tbody tr th:only-of-type {\n",
       "        vertical-align: middle;\n",
       "    }\n",
       "\n",
       "    .dataframe tbody tr th {\n",
       "        vertical-align: top;\n",
       "    }\n",
       "\n",
       "    .dataframe thead th {\n",
       "        text-align: right;\n",
       "    }\n",
       "</style>\n",
       "<table border=\"1\" class=\"dataframe\">\n",
       "  <thead>\n",
       "    <tr style=\"text-align: right;\">\n",
       "      <th></th>\n",
       "      <th>alias</th>\n",
       "      <th>title</th>\n",
       "      <th>parent_aliases</th>\n",
       "      <th>country_whitelist</th>\n",
       "      <th>country_blacklist</th>\n",
       "      <th>is_restaurant</th>\n",
       "    </tr>\n",
       "  </thead>\n",
       "  <tbody>\n",
       "    <tr>\n",
       "      <th>18</th>\n",
       "      <td>afghani</td>\n",
       "      <td>Afghan</td>\n",
       "      <td>[restaurants]</td>\n",
       "      <td>[]</td>\n",
       "      <td>[MX, TR]</td>\n",
       "      <td>True</td>\n",
       "    </tr>\n",
       "    <tr>\n",
       "      <th>19</th>\n",
       "      <td>african</td>\n",
       "      <td>African</td>\n",
       "      <td>[restaurants]</td>\n",
       "      <td>[]</td>\n",
       "      <td>[TR]</td>\n",
       "      <td>True</td>\n",
       "    </tr>\n",
       "    <tr>\n",
       "      <th>39</th>\n",
       "      <td>andalusian</td>\n",
       "      <td>Andalusian</td>\n",
       "      <td>[restaurants]</td>\n",
       "      <td>[ES, IT]</td>\n",
       "      <td>[]</td>\n",
       "      <td>True</td>\n",
       "    </tr>\n",
       "    <tr>\n",
       "      <th>53</th>\n",
       "      <td>arabian</td>\n",
       "      <td>Arabic</td>\n",
       "      <td>[restaurants]</td>\n",
       "      <td>[]</td>\n",
       "      <td>[DK]</td>\n",
       "      <td>True</td>\n",
       "    </tr>\n",
       "    <tr>\n",
       "      <th>59</th>\n",
       "      <td>argentine</td>\n",
       "      <td>Argentine</td>\n",
       "      <td>[restaurants]</td>\n",
       "      <td>[]</td>\n",
       "      <td>[FI]</td>\n",
       "      <td>True</td>\n",
       "    </tr>\n",
       "  </tbody>\n",
       "</table>\n",
       "</div>"
      ],
      "text/plain": [
       "         alias       title parent_aliases country_whitelist country_blacklist  \\\n",
       "18     afghani      Afghan  [restaurants]                []          [MX, TR]   \n",
       "19     african     African  [restaurants]                []              [TR]   \n",
       "39  andalusian  Andalusian  [restaurants]          [ES, IT]                []   \n",
       "53     arabian      Arabic  [restaurants]                []              [DK]   \n",
       "59   argentine   Argentine  [restaurants]                []              [FI]   \n",
       "\n",
       "    is_restaurant  \n",
       "18           True  \n",
       "19           True  \n",
       "39           True  \n",
       "53           True  \n",
       "59           True  "
      ]
     },
     "execution_count": 5,
     "metadata": {},
     "output_type": "execute_result"
    }
   ],
   "source": [
    "# filtering by the 'is_restaurant' column:\n",
    "restaurants_df = categories_df[categories_df.is_restaurant]\n",
    "restaurants_df.head()"
   ]
  },
  {
   "cell_type": "markdown",
   "id": "69eeaf91",
   "metadata": {},
   "source": [
    "### Finding all restaurants in Lyon\n",
    "\n",
    "We can now fetch restaurants information by looping over all categories, using the 'businesses/search' endpoint of the yelp API. I first declare some parameters by the query:"
   ]
  },
  {
   "cell_type": "code",
   "execution_count": 6,
   "id": "835ef6c7",
   "metadata": {},
   "outputs": [],
   "source": [
    "key_file = open('temp_api_key.txt')\n",
    "api_key = key_file.readline().rstrip('\\n')\n",
    "key_file.close()\n",
    "\n",
    "headers = {'Authorization': 'bearer %s' % api_key}\n",
    "\n",
    "endpoint = \"https://api.yelp.com/v3/businesses/search\"\n",
    "\n",
    "parameters = {'location': 'Lyon, FR', # where to look\n",
    "             'offset' : 0, # starting from the first result\n",
    "             'limit': 50, # taking 50 results (the maximum available at a time)\n",
    "             'term': 'restaurants'}"
   ]
  },
  {
   "cell_type": "markdown",
   "id": "99e6d4eb",
   "metadata": {},
   "source": [
    "I then declare a list in which to store the response and loop over categories:"
   ]
  },
  {
   "cell_type": "code",
   "execution_count": 7,
   "id": "d0ffa73f",
   "metadata": {},
   "outputs": [],
   "source": [
    "restaurants_ratings = []\n",
    "\n",
    "# looping over categories\n",
    "for category in restaurants_df.alias:\n",
    "    # specifying the category in the parameters\n",
    "    parameters['categories'] = category\n",
    "    # looping a second time to fetch 50 results at a time\n",
    "    for offset in range(0, 1000, 50):\n",
    "        parameters['offset'] = offset\n",
    "        response = requests.get(url = endpoint, params = parameters, headers = headers)\n",
    "        \n",
    "        # we break the loop if there are no restaurants left\n",
    "        if not response.json().get('businesses', False):\n",
    "            break\n",
    "            \n",
    "        # we extend the restaurants list with the new response\n",
    "        restaurants_ratings.extend(response.json()['businesses'])"
   ]
  },
  {
   "cell_type": "code",
   "execution_count": 8,
   "id": "fc71386f",
   "metadata": {},
   "outputs": [
    {
     "data": {
      "text/plain": [
       "4999"
      ]
     },
     "execution_count": 8,
     "metadata": {},
     "output_type": "execute_result"
    }
   ],
   "source": [
    "len(restaurants_ratings)"
   ]
  },
  {
   "cell_type": "code",
   "execution_count": 9,
   "id": "13a99463",
   "metadata": {},
   "outputs": [
    {
     "data": {
      "text/plain": [
       "{'id': 'D3NHTerar80aeR6mlyE2mw',\n",
       " 'alias': 'azur-afghan-lyon',\n",
       " 'name': 'Azur Afghan',\n",
       " 'image_url': 'https://s3-media1.fl.yelpcdn.com/bphoto/8i5nsqv5tbxxg8HdndPY4Q/o.jpg',\n",
       " 'is_closed': False,\n",
       " 'url': 'https://www.yelp.com/biz/azur-afghan-lyon?adjust_creative=qbeDf2GYKB1Prc0VgyQp0A&utm_campaign=yelp_api_v3&utm_medium=api_v3_business_search&utm_source=qbeDf2GYKB1Prc0VgyQp0A',\n",
       " 'review_count': 23,\n",
       " 'categories': [{'alias': 'afghani', 'title': 'Afghan'}],\n",
       " 'rating': 4.0,\n",
       " 'coordinates': {'latitude': 45.77502, 'longitude': 4.82875},\n",
       " 'transactions': [],\n",
       " 'price': '€€',\n",
       " 'location': {'address1': '6 Rue Villeneuve',\n",
       "  'address2': None,\n",
       "  'address3': None,\n",
       "  'city': 'Lyon',\n",
       "  'zip_code': '69004',\n",
       "  'country': 'FR',\n",
       "  'state': '69',\n",
       "  'display_address': ['6 Rue Villeneuve', '69004 Lyon', 'France']},\n",
       " 'phone': '+33478396619',\n",
       " 'display_phone': '+33 4 78 39 66 19',\n",
       " 'distance': 1845.795955776875}"
      ]
     },
     "execution_count": 9,
     "metadata": {},
     "output_type": "execute_result"
    }
   ],
   "source": [
    "restaurants_ratings[0]"
   ]
  },
  {
   "cell_type": "markdown",
   "id": "0866865f",
   "metadata": {},
   "source": [
    "## Data cleaning\n",
    "\n",
    "We gathered the data from 4995 restaurants in a json format. We can first transform it to a data frame using the 'json_normalize' function which deals fairly well with nested jsons:"
   ]
  },
  {
   "cell_type": "code",
   "execution_count": 10,
   "id": "e4d14c95",
   "metadata": {},
   "outputs": [],
   "source": [
    "data = pd.json_normalize(restaurants_ratings)"
   ]
  },
  {
   "cell_type": "code",
   "execution_count": 11,
   "id": "84205557",
   "metadata": {},
   "outputs": [
    {
     "name": "stdout",
     "output_type": "stream",
     "text": [
      "<class 'pandas.core.frame.DataFrame'>\n",
      "RangeIndex: 4999 entries, 0 to 4998\n",
      "Data columns (total 24 columns):\n",
      " #   Column                    Non-Null Count  Dtype  \n",
      "---  ------                    --------------  -----  \n",
      " 0   id                        4999 non-null   object \n",
      " 1   alias                     4999 non-null   object \n",
      " 2   name                      4999 non-null   object \n",
      " 3   image_url                 4999 non-null   object \n",
      " 4   is_closed                 4999 non-null   bool   \n",
      " 5   url                       4999 non-null   object \n",
      " 6   review_count              4999 non-null   int64  \n",
      " 7   categories                4999 non-null   object \n",
      " 8   rating                    4999 non-null   float64\n",
      " 9   transactions              4999 non-null   object \n",
      " 10  price                     2681 non-null   object \n",
      " 11  phone                     4999 non-null   object \n",
      " 12  display_phone             4999 non-null   object \n",
      " 13  distance                  4999 non-null   float64\n",
      " 14  coordinates.latitude      4996 non-null   float64\n",
      " 15  coordinates.longitude     4996 non-null   float64\n",
      " 16  location.address1         4991 non-null   object \n",
      " 17  location.address2         3122 non-null   object \n",
      " 18  location.address3         2734 non-null   object \n",
      " 19  location.city             4999 non-null   object \n",
      " 20  location.zip_code         4999 non-null   object \n",
      " 21  location.country          4999 non-null   object \n",
      " 22  location.state            4999 non-null   object \n",
      " 23  location.display_address  4999 non-null   object \n",
      "dtypes: bool(1), float64(4), int64(1), object(18)\n",
      "memory usage: 903.3+ KB\n"
     ]
    }
   ],
   "source": [
    "data.info()"
   ]
  },
  {
   "cell_type": "markdown",
   "id": "89fcbc98",
   "metadata": {},
   "source": [
    "We can already drop columns that don't interest us:"
   ]
  },
  {
   "cell_type": "code",
   "execution_count": 12,
   "id": "c80bc855",
   "metadata": {},
   "outputs": [],
   "source": [
    "# droping useless columns:\n",
    "data.drop(['image_url',\n",
    "          'is_closed', #\n",
    "          'url',\n",
    "          'transactions',\n",
    "          'phone',\n",
    "          'display_phone',\n",
    "          'distance',\n",
    "          'location.state' # redundant with location.zip_code\n",
    "          ],\n",
    "         axis = 1, inplace = True)"
   ]
  },
  {
   "cell_type": "markdown",
   "id": "35169829",
   "metadata": {},
   "source": [
    "Some duplicates might have gotten into the data, for example if a restaurant was found both under the 'pizza' and 'italian' aliases. We get rid of them by dropping rows that share the same restaurant id:"
   ]
  },
  {
   "cell_type": "code",
   "execution_count": 13,
   "id": "fcba244f",
   "metadata": {},
   "outputs": [],
   "source": [
    "data.drop_duplicates(subset = 'id', inplace = True)"
   ]
  },
  {
   "cell_type": "markdown",
   "id": "12785213",
   "metadata": {},
   "source": [
    "Let's check that all the restaurants are in Lyon, France:"
   ]
  },
  {
   "cell_type": "code",
   "execution_count": 14,
   "id": "25aa24c3",
   "metadata": {},
   "outputs": [
    {
     "data": {
      "text/plain": [
       "FR    3592\n",
       "IT       1\n",
       "Name: location.country, dtype: int64"
      ]
     },
     "execution_count": 14,
     "metadata": {},
     "output_type": "execute_result"
    }
   ],
   "source": [
    "data['location.country'].value_counts()"
   ]
  },
  {
   "cell_type": "code",
   "execution_count": 15,
   "id": "20470842",
   "metadata": {},
   "outputs": [
    {
     "data": {
      "text/plain": [
       "Lyon                2628\n",
       "Villeurbanne         287\n",
       "Bron                  53\n",
       "Oullins               44\n",
       "Vénissieux            44\n",
       "                    ... \n",
       "Lyon  Eme              1\n",
       "Rillieux-La-Pape       1\n",
       "Paris                  1\n",
       "LYON 03                1\n",
       "Oullins Cedex          1\n",
       "Name: location.city, Length: 131, dtype: int64"
      ]
     },
     "execution_count": 15,
     "metadata": {},
     "output_type": "execute_result"
    }
   ],
   "source": [
    "data['location.city'].value_counts()"
   ]
  },
  {
   "cell_type": "markdown",
   "id": "8cb1913d",
   "metadata": {},
   "source": [
    "It seems that one italian restaurants and quite a lot of restaurants from cities near Lyon have gotten into our data, so let's filter by city:"
   ]
  },
  {
   "cell_type": "code",
   "execution_count": 16,
   "id": "8ffba216",
   "metadata": {},
   "outputs": [],
   "source": [
    "# lowering the city field to make sure we don't exlude any restaurants due to case issues\n",
    "data['location.city'] = data['location.city'].str.lower()\n",
    "data = data[data['location.city'].str.find('lyon') >= 0]"
   ]
  },
  {
   "cell_type": "code",
   "execution_count": 17,
   "id": "46f42860",
   "metadata": {},
   "outputs": [
    {
     "data": {
      "text/plain": [
       "lyon                      2630\n",
       "lyon 03                      8\n",
       "lyon 06                      8\n",
       "lyon 07                      7\n",
       "lyon 2eme                    7\n",
       "lyon 6eme                    6\n",
       "sainte-foy-lès-lyon          6\n",
       "lyon 9eme                    6\n",
       "lyon 5eme                    3\n",
       "lyon-2e-arrondissement       3\n",
       "lyon 02                      3\n",
       "lyon 1er                     3\n",
       "sainte foy les lyon          2\n",
       "lyon 01                      2\n",
       "lyon 05                      2\n",
       "lyon 3eme                    2\n",
       "lyon-5e-arrondissement       2\n",
       "lyon-7e-arrondissement       2\n",
       "lyon 08                      1\n",
       "lyon cedex 3                 1\n",
       "lyon  eme                    1\n",
       "lyon-3e-arrondissement       1\n",
       "lyon 7eme                    1\n",
       "lyon 8eme                    1\n",
       "lyon 3 eme                   1\n",
       "lyon 04                      1\n",
       "lyon 09                      1\n",
       "sainte foy lès lyon          1\n",
       "Name: location.city, dtype: int64"
      ]
     },
     "execution_count": 17,
     "metadata": {},
     "output_type": "execute_result"
    }
   ],
   "source": [
    "# checking that all restaurants are now in lyon\n",
    "data['location.city'].value_counts()"
   ]
  },
  {
   "cell_type": "code",
   "execution_count": 18,
   "id": "436de3dc",
   "metadata": {},
   "outputs": [],
   "source": [
    "# excluding restaurants from 'sainte-foy-les-lyon' which is not in lyon\n",
    "data = data[data['location.city'].str.find('sainte') == -1]"
   ]
  },
  {
   "cell_type": "code",
   "execution_count": 19,
   "id": "69eb0be1",
   "metadata": {},
   "outputs": [
    {
     "data": {
      "text/plain": [
       "lyon                      2630\n",
       "lyon 06                      8\n",
       "lyon 03                      8\n",
       "lyon 07                      7\n",
       "lyon 2eme                    7\n",
       "lyon 6eme                    6\n",
       "lyon 9eme                    6\n",
       "lyon 5eme                    3\n",
       "lyon 1er                     3\n",
       "lyon 02                      3\n",
       "lyon-2e-arrondissement       3\n",
       "lyon-7e-arrondissement       2\n",
       "lyon 3eme                    2\n",
       "lyon-5e-arrondissement       2\n",
       "lyon 05                      2\n",
       "lyon 01                      2\n",
       "lyon cedex 3                 1\n",
       "lyon 08                      1\n",
       "lyon  eme                    1\n",
       "lyon-3e-arrondissement       1\n",
       "lyon 7eme                    1\n",
       "lyon 8eme                    1\n",
       "lyon 3 eme                   1\n",
       "lyon 04                      1\n",
       "lyon 09                      1\n",
       "Name: location.city, dtype: int64"
      ]
     },
     "execution_count": 19,
     "metadata": {},
     "output_type": "execute_result"
    }
   ],
   "source": [
    "# checking that all restaurants are now in lyon\n",
    "data['location.city'].value_counts()"
   ]
  },
  {
   "cell_type": "code",
   "execution_count": 20,
   "id": "074b37f2",
   "metadata": {},
   "outputs": [],
   "source": [
    "# We can finally drop the city column, since it is redundant with zip codes\n",
    "data.drop('location.city', axis = 1, inplace = True)"
   ]
  },
  {
   "cell_type": "markdown",
   "id": "f42f3198",
   "metadata": {},
   "source": [
    "We can have a final check of our filter using zip-codes: Lyon is from 69001 to 69009, so there should be no other zipcodes:"
   ]
  },
  {
   "cell_type": "code",
   "execution_count": 21,
   "id": "f51a2071",
   "metadata": {
    "scrolled": true
   },
   "outputs": [
    {
     "data": {
      "text/plain": [
       "69003    500\n",
       "69002    477\n",
       "69007    400\n",
       "69006    387\n",
       "69001    336\n",
       "69005    215\n",
       "69009    149\n",
       "69008    109\n",
       "69004    108\n",
       "           7\n",
       "69100      3\n",
       "69000      3\n",
       "26150      2\n",
       "69300      2\n",
       "69200      1\n",
       "69363      1\n",
       "69326      1\n",
       "69800      1\n",
       "69500      1\n",
       "Name: location.zip_code, dtype: int64"
      ]
     },
     "execution_count": 21,
     "metadata": {},
     "output_type": "execute_result"
    }
   ],
   "source": [
    "data['location.zip_code'].value_counts()"
   ]
  },
  {
   "cell_type": "code",
   "execution_count": 22,
   "id": "777f12e4",
   "metadata": {},
   "outputs": [],
   "source": [
    "# dropping restaurants with zip-codes outside of Lyon\n",
    "data = data[(data['location.zip_code'].isin(['69001', '69002', '69003', '69004',\n",
    "                                          '69005', '69006', '69007', '69008',\n",
    "                                          '69009']))]"
   ]
  },
  {
   "cell_type": "code",
   "execution_count": 23,
   "id": "e072c6dc",
   "metadata": {},
   "outputs": [
    {
     "data": {
      "text/plain": [
       "2681"
      ]
     },
     "execution_count": 23,
     "metadata": {},
     "output_type": "execute_result"
    }
   ],
   "source": [
    "len(data)"
   ]
  },
  {
   "cell_type": "markdown",
   "id": "601d94d0",
   "metadata": {},
   "source": [
    "We can then inspect missing values:"
   ]
  },
  {
   "cell_type": "code",
   "execution_count": 24,
   "id": "e878fe67",
   "metadata": {},
   "outputs": [
    {
     "data": {
      "text/plain": [
       "id                             0\n",
       "alias                          0\n",
       "name                           0\n",
       "review_count                   0\n",
       "categories                     0\n",
       "rating                         0\n",
       "price                       1166\n",
       "coordinates.latitude           0\n",
       "coordinates.longitude          0\n",
       "location.address1              4\n",
       "location.address2           1010\n",
       "location.address3           1294\n",
       "location.zip_code              0\n",
       "location.country               0\n",
       "location.display_address       0\n",
       "dtype: int64"
      ]
     },
     "execution_count": 24,
     "metadata": {},
     "output_type": "execute_result"
    }
   ],
   "source": [
    "data.isna().sum()"
   ]
  },
  {
   "cell_type": "markdown",
   "id": "9c723a32",
   "metadata": {},
   "source": [
    "Missing secondary and third addresses are not an issues since most places only have a primary adress. Missing prices might be concerning if we want to later analyse ratings vs price. Lastly, we can drop the rows with a missing value in coordinates and primary address, since the only concern a few restaurants."
   ]
  },
  {
   "cell_type": "code",
   "execution_count": 25,
   "id": "0381f03e",
   "metadata": {},
   "outputs": [],
   "source": [
    "data.dropna(subset = ['coordinates.latitude', 'coordinates.longitude', 'location.address1'], inplace = True)"
   ]
  },
  {
   "cell_type": "code",
   "execution_count": 26,
   "id": "215b588e",
   "metadata": {},
   "outputs": [
    {
     "data": {
      "text/html": [
       "<div>\n",
       "<style scoped>\n",
       "    .dataframe tbody tr th:only-of-type {\n",
       "        vertical-align: middle;\n",
       "    }\n",
       "\n",
       "    .dataframe tbody tr th {\n",
       "        vertical-align: top;\n",
       "    }\n",
       "\n",
       "    .dataframe thead th {\n",
       "        text-align: right;\n",
       "    }\n",
       "</style>\n",
       "<table border=\"1\" class=\"dataframe\">\n",
       "  <thead>\n",
       "    <tr style=\"text-align: right;\">\n",
       "      <th></th>\n",
       "      <th>id</th>\n",
       "      <th>alias</th>\n",
       "      <th>name</th>\n",
       "      <th>review_count</th>\n",
       "      <th>categories</th>\n",
       "      <th>rating</th>\n",
       "      <th>price</th>\n",
       "      <th>coordinates.latitude</th>\n",
       "    </tr>\n",
       "  </thead>\n",
       "  <tbody>\n",
       "    <tr>\n",
       "      <th>0</th>\n",
       "      <td>D3NHTerar80aeR6mlyE2mw</td>\n",
       "      <td>azur-afghan-lyon</td>\n",
       "      <td>Azur Afghan</td>\n",
       "      <td>23</td>\n",
       "      <td>[{'alias': 'afghani', 'title': 'Afghan'}]</td>\n",
       "      <td>4.0</td>\n",
       "      <td>€€</td>\n",
       "      <td>45.775020</td>\n",
       "    </tr>\n",
       "    <tr>\n",
       "      <th>1</th>\n",
       "      <td>ee4wtKIBI_yTz0fJD054pg</td>\n",
       "      <td>tendance-afghane-lyon</td>\n",
       "      <td>Tendance Afghane</td>\n",
       "      <td>1</td>\n",
       "      <td>[{'alias': 'afghani', 'title': 'Afghan'}]</td>\n",
       "      <td>3.0</td>\n",
       "      <td>NaN</td>\n",
       "      <td>45.759540</td>\n",
       "    </tr>\n",
       "    <tr>\n",
       "      <th>2</th>\n",
       "      <td>zmk41IUwIkvO_eM0UGD7Sg</td>\n",
       "      <td>sufy-lyon</td>\n",
       "      <td>Sufy</td>\n",
       "      <td>2</td>\n",
       "      <td>[{'alias': 'indpak', 'title': 'Indian'}, {'ali...</td>\n",
       "      <td>3.5</td>\n",
       "      <td>NaN</td>\n",
       "      <td>45.752212</td>\n",
       "    </tr>\n",
       "    <tr>\n",
       "      <th>3</th>\n",
       "      <td>Vo0U5EcXbh7qlpdaQwZchA</td>\n",
       "      <td>le-conakry-lyon</td>\n",
       "      <td>Le Conakry</td>\n",
       "      <td>9</td>\n",
       "      <td>[{'alias': 'african', 'title': 'African'}]</td>\n",
       "      <td>4.0</td>\n",
       "      <td>€€</td>\n",
       "      <td>45.750642</td>\n",
       "    </tr>\n",
       "    <tr>\n",
       "      <th>4</th>\n",
       "      <td>-mFHJBuCxZJ_wJrO-o2Ypw</td>\n",
       "      <td>afc-africa-food-concept-lyon</td>\n",
       "      <td>AFC Africa Food Concept</td>\n",
       "      <td>8</td>\n",
       "      <td>[{'alias': 'african', 'title': 'African'}, {'a...</td>\n",
       "      <td>3.5</td>\n",
       "      <td>€€</td>\n",
       "      <td>45.754336</td>\n",
       "    </tr>\n",
       "  </tbody>\n",
       "</table>\n",
       "</div>"
      ],
      "text/plain": [
       "                       id                         alias  \\\n",
       "0  D3NHTerar80aeR6mlyE2mw              azur-afghan-lyon   \n",
       "1  ee4wtKIBI_yTz0fJD054pg         tendance-afghane-lyon   \n",
       "2  zmk41IUwIkvO_eM0UGD7Sg                     sufy-lyon   \n",
       "3  Vo0U5EcXbh7qlpdaQwZchA               le-conakry-lyon   \n",
       "4  -mFHJBuCxZJ_wJrO-o2Ypw  afc-africa-food-concept-lyon   \n",
       "\n",
       "                      name  review_count  \\\n",
       "0              Azur Afghan            23   \n",
       "1         Tendance Afghane             1   \n",
       "2                     Sufy             2   \n",
       "3               Le Conakry             9   \n",
       "4  AFC Africa Food Concept             8   \n",
       "\n",
       "                                          categories  rating price  \\\n",
       "0          [{'alias': 'afghani', 'title': 'Afghan'}]     4.0    €€   \n",
       "1          [{'alias': 'afghani', 'title': 'Afghan'}]     3.0   NaN   \n",
       "2  [{'alias': 'indpak', 'title': 'Indian'}, {'ali...     3.5   NaN   \n",
       "3         [{'alias': 'african', 'title': 'African'}]     4.0    €€   \n",
       "4  [{'alias': 'african', 'title': 'African'}, {'a...     3.5    €€   \n",
       "\n",
       "   coordinates.latitude  \n",
       "0             45.775020  \n",
       "1             45.759540  \n",
       "2             45.752212  \n",
       "3             45.750642  \n",
       "4             45.754336  "
      ]
     },
     "execution_count": 26,
     "metadata": {},
     "output_type": "execute_result"
    }
   ],
   "source": [
    "data[data.columns[:8]].head()"
   ]
  },
  {
   "cell_type": "code",
   "execution_count": 27,
   "id": "c1ddcf9f",
   "metadata": {},
   "outputs": [
    {
     "data": {
      "text/html": [
       "<div>\n",
       "<style scoped>\n",
       "    .dataframe tbody tr th:only-of-type {\n",
       "        vertical-align: middle;\n",
       "    }\n",
       "\n",
       "    .dataframe tbody tr th {\n",
       "        vertical-align: top;\n",
       "    }\n",
       "\n",
       "    .dataframe thead th {\n",
       "        text-align: right;\n",
       "    }\n",
       "</style>\n",
       "<table border=\"1\" class=\"dataframe\">\n",
       "  <thead>\n",
       "    <tr style=\"text-align: right;\">\n",
       "      <th></th>\n",
       "      <th>coordinates.longitude</th>\n",
       "      <th>location.address1</th>\n",
       "      <th>location.address2</th>\n",
       "      <th>location.address3</th>\n",
       "      <th>location.zip_code</th>\n",
       "      <th>location.country</th>\n",
       "      <th>location.display_address</th>\n",
       "    </tr>\n",
       "  </thead>\n",
       "  <tbody>\n",
       "    <tr>\n",
       "      <th>0</th>\n",
       "      <td>4.828750</td>\n",
       "      <td>6 Rue Villeneuve</td>\n",
       "      <td>None</td>\n",
       "      <td>None</td>\n",
       "      <td>69004</td>\n",
       "      <td>FR</td>\n",
       "      <td>[6 Rue Villeneuve, 69004 Lyon, France]</td>\n",
       "    </tr>\n",
       "    <tr>\n",
       "      <th>1</th>\n",
       "      <td>4.825560</td>\n",
       "      <td>25 Rue Tramassac</td>\n",
       "      <td></td>\n",
       "      <td></td>\n",
       "      <td>69005</td>\n",
       "      <td>FR</td>\n",
       "      <td>[25 Rue Tramassac, 69005 Lyon, France]</td>\n",
       "    </tr>\n",
       "    <tr>\n",
       "      <th>2</th>\n",
       "      <td>4.864384</td>\n",
       "      <td>34 rue Jeanne Hachette</td>\n",
       "      <td></td>\n",
       "      <td>None</td>\n",
       "      <td>69003</td>\n",
       "      <td>FR</td>\n",
       "      <td>[34 rue Jeanne Hachette, 69003 Lyon, France]</td>\n",
       "    </tr>\n",
       "    <tr>\n",
       "      <th>3</th>\n",
       "      <td>4.849127</td>\n",
       "      <td>112 Grande rue de la Guillotière</td>\n",
       "      <td></td>\n",
       "      <td></td>\n",
       "      <td>69007</td>\n",
       "      <td>FR</td>\n",
       "      <td>[112 Grande rue de la Guillotière, 69007 Lyon,...</td>\n",
       "    </tr>\n",
       "    <tr>\n",
       "      <th>4</th>\n",
       "      <td>4.843469</td>\n",
       "      <td>14 Grande rue de la Guillotière</td>\n",
       "      <td></td>\n",
       "      <td></td>\n",
       "      <td>69007</td>\n",
       "      <td>FR</td>\n",
       "      <td>[14 Grande rue de la Guillotière, 69007 Lyon, ...</td>\n",
       "    </tr>\n",
       "  </tbody>\n",
       "</table>\n",
       "</div>"
      ],
      "text/plain": [
       "   coordinates.longitude                 location.address1 location.address2  \\\n",
       "0               4.828750                  6 Rue Villeneuve              None   \n",
       "1               4.825560                  25 Rue Tramassac                     \n",
       "2               4.864384            34 rue Jeanne Hachette                     \n",
       "3               4.849127  112 Grande rue de la Guillotière                     \n",
       "4               4.843469   14 Grande rue de la Guillotière                     \n",
       "\n",
       "  location.address3 location.zip_code location.country  \\\n",
       "0              None             69004               FR   \n",
       "1                               69005               FR   \n",
       "2              None             69003               FR   \n",
       "3                               69007               FR   \n",
       "4                               69007               FR   \n",
       "\n",
       "                            location.display_address  \n",
       "0             [6 Rue Villeneuve, 69004 Lyon, France]  \n",
       "1             [25 Rue Tramassac, 69005 Lyon, France]  \n",
       "2       [34 rue Jeanne Hachette, 69003 Lyon, France]  \n",
       "3  [112 Grande rue de la Guillotière, 69007 Lyon,...  \n",
       "4  [14 Grande rue de la Guillotière, 69007 Lyon, ...  "
      ]
     },
     "execution_count": 27,
     "metadata": {},
     "output_type": "execute_result"
    }
   ],
   "source": [
    "data[data.columns[8:]].head()"
   ]
  },
  {
   "cell_type": "code",
   "execution_count": 28,
   "id": "4f8f98e5",
   "metadata": {},
   "outputs": [
    {
     "data": {
      "text/plain": [
       "[{'alias': 'indpak', 'title': 'Indian'},\n",
       " {'alias': 'afghani', 'title': 'Afghan'},\n",
       " {'alias': 'buffets', 'title': 'Buffets'}]"
      ]
     },
     "execution_count": 28,
     "metadata": {},
     "output_type": "execute_result"
    }
   ],
   "source": [
    "data['categories'][2]"
   ]
  },
  {
   "cell_type": "code",
   "execution_count": 29,
   "id": "204507f5",
   "metadata": {},
   "outputs": [],
   "source": [
    "def get_aliases(category_list):\n",
    "    return([element['alias'] for element in category_list if element['alias'] in list(restaurants_df['alias'])])"
   ]
  },
  {
   "cell_type": "code",
   "execution_count": 30,
   "id": "8ccba9ff",
   "metadata": {},
   "outputs": [],
   "source": [
    "data['cat_aliases'] = data['categories'].apply(get_aliases)"
   ]
  },
  {
   "cell_type": "code",
   "execution_count": 31,
   "id": "89232ff3",
   "metadata": {},
   "outputs": [],
   "source": [
    "categories_table = pd.concat([data['id'], data['cat_aliases'].apply(lambda x: pd.Series(1, x)).fillna(0)], axis = 1)"
   ]
  },
  {
   "cell_type": "code",
   "execution_count": 32,
   "id": "00e386bd",
   "metadata": {},
   "outputs": [
    {
     "data": {
      "text/html": [
       "<div>\n",
       "<style scoped>\n",
       "    .dataframe tbody tr th:only-of-type {\n",
       "        vertical-align: middle;\n",
       "    }\n",
       "\n",
       "    .dataframe tbody tr th {\n",
       "        vertical-align: top;\n",
       "    }\n",
       "\n",
       "    .dataframe thead th {\n",
       "        text-align: right;\n",
       "    }\n",
       "</style>\n",
       "<table border=\"1\" class=\"dataframe\">\n",
       "  <thead>\n",
       "    <tr style=\"text-align: right;\">\n",
       "      <th></th>\n",
       "      <th>id</th>\n",
       "      <th>afghani</th>\n",
       "      <th>indpak</th>\n",
       "      <th>buffets</th>\n",
       "      <th>african</th>\n",
       "      <th>halal</th>\n",
       "      <th>french</th>\n",
       "      <th>burgers</th>\n",
       "      <th>hotdogs</th>\n",
       "      <th>seafood</th>\n",
       "      <th>...</th>\n",
       "      <th>hungarian</th>\n",
       "      <th>indonesian</th>\n",
       "      <th>irish</th>\n",
       "      <th>trattorie</th>\n",
       "      <th>peruvian</th>\n",
       "      <th>latin</th>\n",
       "      <th>sud_ouest</th>\n",
       "      <th>syrian</th>\n",
       "      <th>oriental</th>\n",
       "      <th>persian</th>\n",
       "    </tr>\n",
       "  </thead>\n",
       "  <tbody>\n",
       "    <tr>\n",
       "      <th>0</th>\n",
       "      <td>D3NHTerar80aeR6mlyE2mw</td>\n",
       "      <td>1.0</td>\n",
       "      <td>0.0</td>\n",
       "      <td>0.0</td>\n",
       "      <td>0.0</td>\n",
       "      <td>0.0</td>\n",
       "      <td>0.0</td>\n",
       "      <td>0.0</td>\n",
       "      <td>0.0</td>\n",
       "      <td>0.0</td>\n",
       "      <td>...</td>\n",
       "      <td>0.0</td>\n",
       "      <td>0.0</td>\n",
       "      <td>0.0</td>\n",
       "      <td>0.0</td>\n",
       "      <td>0.0</td>\n",
       "      <td>0.0</td>\n",
       "      <td>0.0</td>\n",
       "      <td>0.0</td>\n",
       "      <td>0.0</td>\n",
       "      <td>0.0</td>\n",
       "    </tr>\n",
       "    <tr>\n",
       "      <th>1</th>\n",
       "      <td>ee4wtKIBI_yTz0fJD054pg</td>\n",
       "      <td>1.0</td>\n",
       "      <td>0.0</td>\n",
       "      <td>0.0</td>\n",
       "      <td>0.0</td>\n",
       "      <td>0.0</td>\n",
       "      <td>0.0</td>\n",
       "      <td>0.0</td>\n",
       "      <td>0.0</td>\n",
       "      <td>0.0</td>\n",
       "      <td>...</td>\n",
       "      <td>0.0</td>\n",
       "      <td>0.0</td>\n",
       "      <td>0.0</td>\n",
       "      <td>0.0</td>\n",
       "      <td>0.0</td>\n",
       "      <td>0.0</td>\n",
       "      <td>0.0</td>\n",
       "      <td>0.0</td>\n",
       "      <td>0.0</td>\n",
       "      <td>0.0</td>\n",
       "    </tr>\n",
       "    <tr>\n",
       "      <th>2</th>\n",
       "      <td>zmk41IUwIkvO_eM0UGD7Sg</td>\n",
       "      <td>1.0</td>\n",
       "      <td>1.0</td>\n",
       "      <td>1.0</td>\n",
       "      <td>0.0</td>\n",
       "      <td>0.0</td>\n",
       "      <td>0.0</td>\n",
       "      <td>0.0</td>\n",
       "      <td>0.0</td>\n",
       "      <td>0.0</td>\n",
       "      <td>...</td>\n",
       "      <td>0.0</td>\n",
       "      <td>0.0</td>\n",
       "      <td>0.0</td>\n",
       "      <td>0.0</td>\n",
       "      <td>0.0</td>\n",
       "      <td>0.0</td>\n",
       "      <td>0.0</td>\n",
       "      <td>0.0</td>\n",
       "      <td>0.0</td>\n",
       "      <td>0.0</td>\n",
       "    </tr>\n",
       "    <tr>\n",
       "      <th>3</th>\n",
       "      <td>Vo0U5EcXbh7qlpdaQwZchA</td>\n",
       "      <td>0.0</td>\n",
       "      <td>0.0</td>\n",
       "      <td>0.0</td>\n",
       "      <td>1.0</td>\n",
       "      <td>0.0</td>\n",
       "      <td>0.0</td>\n",
       "      <td>0.0</td>\n",
       "      <td>0.0</td>\n",
       "      <td>0.0</td>\n",
       "      <td>...</td>\n",
       "      <td>0.0</td>\n",
       "      <td>0.0</td>\n",
       "      <td>0.0</td>\n",
       "      <td>0.0</td>\n",
       "      <td>0.0</td>\n",
       "      <td>0.0</td>\n",
       "      <td>0.0</td>\n",
       "      <td>0.0</td>\n",
       "      <td>0.0</td>\n",
       "      <td>0.0</td>\n",
       "    </tr>\n",
       "    <tr>\n",
       "      <th>4</th>\n",
       "      <td>-mFHJBuCxZJ_wJrO-o2Ypw</td>\n",
       "      <td>0.0</td>\n",
       "      <td>0.0</td>\n",
       "      <td>0.0</td>\n",
       "      <td>1.0</td>\n",
       "      <td>1.0</td>\n",
       "      <td>0.0</td>\n",
       "      <td>0.0</td>\n",
       "      <td>0.0</td>\n",
       "      <td>0.0</td>\n",
       "      <td>...</td>\n",
       "      <td>0.0</td>\n",
       "      <td>0.0</td>\n",
       "      <td>0.0</td>\n",
       "      <td>0.0</td>\n",
       "      <td>0.0</td>\n",
       "      <td>0.0</td>\n",
       "      <td>0.0</td>\n",
       "      <td>0.0</td>\n",
       "      <td>0.0</td>\n",
       "      <td>0.0</td>\n",
       "    </tr>\n",
       "    <tr>\n",
       "      <th>...</th>\n",
       "      <td>...</td>\n",
       "      <td>...</td>\n",
       "      <td>...</td>\n",
       "      <td>...</td>\n",
       "      <td>...</td>\n",
       "      <td>...</td>\n",
       "      <td>...</td>\n",
       "      <td>...</td>\n",
       "      <td>...</td>\n",
       "      <td>...</td>\n",
       "      <td>...</td>\n",
       "      <td>...</td>\n",
       "      <td>...</td>\n",
       "      <td>...</td>\n",
       "      <td>...</td>\n",
       "      <td>...</td>\n",
       "      <td>...</td>\n",
       "      <td>...</td>\n",
       "      <td>...</td>\n",
       "      <td>...</td>\n",
       "      <td>...</td>\n",
       "    </tr>\n",
       "    <tr>\n",
       "      <th>4975</th>\n",
       "      <td>lD9ECRUPZeS1l6HBdfD4BQ</td>\n",
       "      <td>0.0</td>\n",
       "      <td>0.0</td>\n",
       "      <td>0.0</td>\n",
       "      <td>0.0</td>\n",
       "      <td>0.0</td>\n",
       "      <td>0.0</td>\n",
       "      <td>0.0</td>\n",
       "      <td>0.0</td>\n",
       "      <td>0.0</td>\n",
       "      <td>...</td>\n",
       "      <td>0.0</td>\n",
       "      <td>0.0</td>\n",
       "      <td>0.0</td>\n",
       "      <td>0.0</td>\n",
       "      <td>0.0</td>\n",
       "      <td>0.0</td>\n",
       "      <td>0.0</td>\n",
       "      <td>0.0</td>\n",
       "      <td>0.0</td>\n",
       "      <td>0.0</td>\n",
       "    </tr>\n",
       "    <tr>\n",
       "      <th>4977</th>\n",
       "      <td>mh5klor8OXnYYPIPz9s6TQ</td>\n",
       "      <td>0.0</td>\n",
       "      <td>0.0</td>\n",
       "      <td>0.0</td>\n",
       "      <td>0.0</td>\n",
       "      <td>0.0</td>\n",
       "      <td>0.0</td>\n",
       "      <td>0.0</td>\n",
       "      <td>0.0</td>\n",
       "      <td>0.0</td>\n",
       "      <td>...</td>\n",
       "      <td>0.0</td>\n",
       "      <td>0.0</td>\n",
       "      <td>0.0</td>\n",
       "      <td>0.0</td>\n",
       "      <td>0.0</td>\n",
       "      <td>0.0</td>\n",
       "      <td>0.0</td>\n",
       "      <td>0.0</td>\n",
       "      <td>0.0</td>\n",
       "      <td>0.0</td>\n",
       "    </tr>\n",
       "    <tr>\n",
       "      <th>4978</th>\n",
       "      <td>SVa5-glOYFajWkIuETg67w</td>\n",
       "      <td>0.0</td>\n",
       "      <td>0.0</td>\n",
       "      <td>0.0</td>\n",
       "      <td>0.0</td>\n",
       "      <td>0.0</td>\n",
       "      <td>0.0</td>\n",
       "      <td>0.0</td>\n",
       "      <td>0.0</td>\n",
       "      <td>0.0</td>\n",
       "      <td>...</td>\n",
       "      <td>0.0</td>\n",
       "      <td>0.0</td>\n",
       "      <td>0.0</td>\n",
       "      <td>0.0</td>\n",
       "      <td>0.0</td>\n",
       "      <td>0.0</td>\n",
       "      <td>0.0</td>\n",
       "      <td>0.0</td>\n",
       "      <td>0.0</td>\n",
       "      <td>0.0</td>\n",
       "    </tr>\n",
       "    <tr>\n",
       "      <th>4980</th>\n",
       "      <td>MxDyahUjN0EszfjrMJWRyw</td>\n",
       "      <td>0.0</td>\n",
       "      <td>0.0</td>\n",
       "      <td>0.0</td>\n",
       "      <td>0.0</td>\n",
       "      <td>0.0</td>\n",
       "      <td>0.0</td>\n",
       "      <td>0.0</td>\n",
       "      <td>0.0</td>\n",
       "      <td>0.0</td>\n",
       "      <td>...</td>\n",
       "      <td>0.0</td>\n",
       "      <td>0.0</td>\n",
       "      <td>0.0</td>\n",
       "      <td>0.0</td>\n",
       "      <td>0.0</td>\n",
       "      <td>0.0</td>\n",
       "      <td>0.0</td>\n",
       "      <td>0.0</td>\n",
       "      <td>0.0</td>\n",
       "      <td>0.0</td>\n",
       "    </tr>\n",
       "    <tr>\n",
       "      <th>4983</th>\n",
       "      <td>_f7Nn1LcxwnyHsKW-_U_pA</td>\n",
       "      <td>0.0</td>\n",
       "      <td>0.0</td>\n",
       "      <td>0.0</td>\n",
       "      <td>0.0</td>\n",
       "      <td>0.0</td>\n",
       "      <td>0.0</td>\n",
       "      <td>0.0</td>\n",
       "      <td>0.0</td>\n",
       "      <td>0.0</td>\n",
       "      <td>...</td>\n",
       "      <td>0.0</td>\n",
       "      <td>0.0</td>\n",
       "      <td>0.0</td>\n",
       "      <td>0.0</td>\n",
       "      <td>0.0</td>\n",
       "      <td>0.0</td>\n",
       "      <td>0.0</td>\n",
       "      <td>0.0</td>\n",
       "      <td>0.0</td>\n",
       "      <td>0.0</td>\n",
       "    </tr>\n",
       "  </tbody>\n",
       "</table>\n",
       "<p>2677 rows × 93 columns</p>\n",
       "</div>"
      ],
      "text/plain": [
       "                          id  afghani  indpak  buffets  african  halal  \\\n",
       "0     D3NHTerar80aeR6mlyE2mw      1.0     0.0      0.0      0.0    0.0   \n",
       "1     ee4wtKIBI_yTz0fJD054pg      1.0     0.0      0.0      0.0    0.0   \n",
       "2     zmk41IUwIkvO_eM0UGD7Sg      1.0     1.0      1.0      0.0    0.0   \n",
       "3     Vo0U5EcXbh7qlpdaQwZchA      0.0     0.0      0.0      1.0    0.0   \n",
       "4     -mFHJBuCxZJ_wJrO-o2Ypw      0.0     0.0      0.0      1.0    1.0   \n",
       "...                      ...      ...     ...      ...      ...    ...   \n",
       "4975  lD9ECRUPZeS1l6HBdfD4BQ      0.0     0.0      0.0      0.0    0.0   \n",
       "4977  mh5klor8OXnYYPIPz9s6TQ      0.0     0.0      0.0      0.0    0.0   \n",
       "4978  SVa5-glOYFajWkIuETg67w      0.0     0.0      0.0      0.0    0.0   \n",
       "4980  MxDyahUjN0EszfjrMJWRyw      0.0     0.0      0.0      0.0    0.0   \n",
       "4983  _f7Nn1LcxwnyHsKW-_U_pA      0.0     0.0      0.0      0.0    0.0   \n",
       "\n",
       "      french  burgers  hotdogs  seafood  ...  hungarian  indonesian  irish  \\\n",
       "0        0.0      0.0      0.0      0.0  ...        0.0         0.0    0.0   \n",
       "1        0.0      0.0      0.0      0.0  ...        0.0         0.0    0.0   \n",
       "2        0.0      0.0      0.0      0.0  ...        0.0         0.0    0.0   \n",
       "3        0.0      0.0      0.0      0.0  ...        0.0         0.0    0.0   \n",
       "4        0.0      0.0      0.0      0.0  ...        0.0         0.0    0.0   \n",
       "...      ...      ...      ...      ...  ...        ...         ...    ...   \n",
       "4975     0.0      0.0      0.0      0.0  ...        0.0         0.0    0.0   \n",
       "4977     0.0      0.0      0.0      0.0  ...        0.0         0.0    0.0   \n",
       "4978     0.0      0.0      0.0      0.0  ...        0.0         0.0    0.0   \n",
       "4980     0.0      0.0      0.0      0.0  ...        0.0         0.0    0.0   \n",
       "4983     0.0      0.0      0.0      0.0  ...        0.0         0.0    0.0   \n",
       "\n",
       "      trattorie  peruvian  latin  sud_ouest  syrian  oriental  persian  \n",
       "0           0.0       0.0    0.0        0.0     0.0       0.0      0.0  \n",
       "1           0.0       0.0    0.0        0.0     0.0       0.0      0.0  \n",
       "2           0.0       0.0    0.0        0.0     0.0       0.0      0.0  \n",
       "3           0.0       0.0    0.0        0.0     0.0       0.0      0.0  \n",
       "4           0.0       0.0    0.0        0.0     0.0       0.0      0.0  \n",
       "...         ...       ...    ...        ...     ...       ...      ...  \n",
       "4975        0.0       0.0    0.0        0.0     0.0       0.0      0.0  \n",
       "4977        0.0       0.0    0.0        0.0     0.0       0.0      0.0  \n",
       "4978        0.0       0.0    0.0        0.0     0.0       0.0      0.0  \n",
       "4980        0.0       0.0    0.0        0.0     0.0       0.0      0.0  \n",
       "4983        0.0       0.0    0.0        0.0     0.0       0.0      0.0  \n",
       "\n",
       "[2677 rows x 93 columns]"
      ]
     },
     "execution_count": 32,
     "metadata": {},
     "output_type": "execute_result"
    }
   ],
   "source": [
    "categories_table"
   ]
  },
  {
   "cell_type": "code",
   "execution_count": 33,
   "id": "02d039c0",
   "metadata": {},
   "outputs": [],
   "source": [
    "data.drop(['categories', 'cat_aliases'], axis = 1, inplace = True)"
   ]
  },
  {
   "cell_type": "code",
   "execution_count": 34,
   "id": "2c04a728",
   "metadata": {},
   "outputs": [],
   "source": [
    "data.to_csv('data/restaurants.csv', index = False)"
   ]
  },
  {
   "cell_type": "code",
   "execution_count": 35,
   "id": "1dc3a025",
   "metadata": {},
   "outputs": [],
   "source": [
    "categories_table.to_csv('data/categories.csv', index = False)"
   ]
  }
 ],
 "metadata": {
  "kernelspec": {
   "display_name": "Python 3 (ipykernel)",
   "language": "python",
   "name": "python3"
  },
  "language_info": {
   "codemirror_mode": {
    "name": "ipython",
    "version": 3
   },
   "file_extension": ".py",
   "mimetype": "text/x-python",
   "name": "python",
   "nbconvert_exporter": "python",
   "pygments_lexer": "ipython3",
   "version": "3.8.10"
  }
 },
 "nbformat": 4,
 "nbformat_minor": 5
}
